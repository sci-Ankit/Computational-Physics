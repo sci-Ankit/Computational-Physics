{
 "cells": [
  {
   "cell_type": "markdown",
   "metadata": {},
   "source": [
    "This is a simple code written to simulate the statistical physics model developed by Dr. Ehrenfest in "
   ]
  },
  {
   "cell_type": "code",
   "execution_count": 1,
   "metadata": {},
   "outputs": [],
   "source": [
    "import random\n",
    "import matplotlib.pyplot as plt"
   ]
  },
  {
   "cell_type": "code",
   "execution_count": 2,
   "metadata": {},
   "outputs": [],
   "source": [
    "## Inputing data from user possiblaly\n",
    "\n",
    "time= 100\n",
    "total_units = 1000000\n",
    "probability_to_jump = 0.05\n",
    "\n",
    "n=total_units\n",
    "while(True):\n",
    "    units_in_a = 1\n",
    "    if units_in_a < n:\n",
    "        break\n",
    "    print(\"A cannot be larger than total units, total units are \", n)\n",
    "\n",
    "a_tmp = units_in_a\n",
    "b_tmp = n-a_tmp"
   ]
  },
  {
   "cell_type": "code",
   "execution_count": 3,
   "metadata": {},
   "outputs": [],
   "source": [
    "def jumping(num,prob):\n",
    "    jumped = 0\n",
    "    for i in range(num):\n",
    "        rand_num = random.random()\n",
    "        if rand_num <prob:\n",
    "            jumped += 1\n",
    "    stayed = num- jumped\n",
    "    return (stayed,jumped)"
   ]
  },
  {
   "cell_type": "code",
   "execution_count": 4,
   "metadata": {},
   "outputs": [],
   "source": [
    "def run(time,a_tmp,b_tmp):\n",
    "    a,b = [a_tmp],[b_tmp]\n",
    "    \n",
    "    for i in range(time-1):\n",
    "        a_stayed,a_jumped = jumping(a[i], probability_to_jump)\n",
    "        b_stayed,b_jumped = jumping(b[i], probability_to_jump)\n",
    "        a_new = a_stayed + b_jumped\n",
    "        b_new = b_stayed + a_jumped\n",
    "        a.append(a_new)\n",
    "        b.append(b_new)\n",
    "    return(a,b)\n"
   ]
  },
  {
   "cell_type": "code",
   "execution_count": 5,
   "metadata": {},
   "outputs": [],
   "source": [
    "y1,y2 = run(time, a_tmp,b_tmp)"
   ]
  },
  {
   "cell_type": "code",
   "execution_count": 6,
   "metadata": {},
   "outputs": [],
   "source": [
    "time_variable = list(range(0,time))"
   ]
  },
  {
   "cell_type": "code",
   "execution_count": 7,
   "metadata": {},
   "outputs": [
    {
     "data": {
      "image/png": "[encoded data removed]",
      "text/plain": [
       "<Figure size 432x288 with 1 Axes>"
      ]
     },
     "metadata": {
      "needs_background": "light"
     },
     "output_type": "display_data"
    }
   ],
   "source": [
    "fig, ax = plt.subplots()\n",
    "\n",
    "ax.plot(time_variable, y1, linewidth=2.0)\n",
    "ax.plot(time_variable, y2, linewidth=2.0)\n",
    "\n",
    "plt.show()"
   ]
  },
  {
   "cell_type": "code",
   "execution_count": 8,
   "metadata": {},
   "outputs": [],
   "source": [
    "#print(y1,\"\\n\" ,y2)"
   ]
  },
  {
   "cell_type": "code",
   "execution_count": null,
   "metadata": {},
   "outputs": [],
   "source": [
    "fig.savefig(\"simple.png\", bbox_inches='tight', dpi=600)"
   ]
  }
 ],
 "metadata": {
  "interpreter": {
   "hash": "31f2aee4e71d21fbe5cf8b01ff0e069b9275f58929596ceb00d14d90e3e16cd6"
  },
  "kernelspec": {
   "display_name": "Python 3",
   "language": "python",
   "name": "python3"
  },
  "language_info": {
   "codemirror_mode": {
    "name": "ipython",
    "version": 3
   },
   "file_extension": ".py",
   "mimetype": "text/x-python",
   "name": "python",
   "nbconvert_exporter": "python",
   "pygments_lexer": "ipython3",
   "version": "3.7.3"
  }
 },
 "nbformat": 4,
 "nbformat_minor": 2
}
